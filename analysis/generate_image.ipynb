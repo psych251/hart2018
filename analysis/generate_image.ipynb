{
 "cells": [
  {
   "cell_type": "markdown",
   "metadata": {},
   "source": [
    "### Pre-generate the images used in the Triangle Completion Task"
   ]
  },
  {
   "cell_type": "code",
   "execution_count": 1,
   "metadata": {},
   "outputs": [],
   "source": [
    "import json\n",
    "import itertools\n",
    "import numpy as np\n",
    "import matplotlib.pyplot as plt\n",
    "%matplotlib notebook"
   ]
  },
  {
   "cell_type": "code",
   "execution_count": 2,
   "metadata": {},
   "outputs": [],
   "source": [
    "def hide_spines_and_ticks(ax):\n",
    "#     ax.spines['right'].set_visible(False)\n",
    "#     ax.spines['top'].set_visible(False)\n",
    "#     ax.spines['left'].set_visible(False)\n",
    "#     ax.spines['bottom'].set_visible(False)\n",
    "    ax.tick_params(axis=u'both', which=u'both',length=1)\n",
    "    ax.set_xticks([])\n",
    "    ax.set_yticks([])\n",
    "    \n",
    "def isosceles_triangle_model(base_len, base_angle):\n",
    "    # returns a dictionary of all relevant params to the input params\n",
    "    side_len = (base_len/2) / np.cos(np.deg2rad(base_angle))\n",
    "    height = side_len * np.sin(np.deg2rad(base_angle))\n",
    "    L_coord = (0.5 - base_len / 2, 0)\n",
    "    R_coord = (0.5 + base_len / 2, 0)\n",
    "    T_coord = (0.5, height)\n",
    "    \n",
    "    return{'base_len':base_len, \n",
    "           'side_len':side_len, \n",
    "           'height':height,\n",
    "           'base_angle':base_angle,\n",
    "           'L_coord':L_coord,\n",
    "           'R_coord':R_coord,\n",
    "           'T_coord':T_coord}\n",
    "\n",
    "def draw_line(ax, p1, p2, **kwargs):\n",
    "    # draws a line between p1 and p2\n",
    "    ax.plot([p1[0],p2[0]], [p1[1],p2[1]], **kwargs)\n",
    "\n",
    "def draw_complete_triangle(ax, config, **kwargs):\n",
    "    # for test purporses\n",
    "    draw_line(ax, config['L_coord'], config['R_coord'], **kwargs)\n",
    "    draw_line(ax, config['L_coord'], config['T_coord'], **kwargs)\n",
    "    draw_line(ax, config['R_coord'], config['T_coord'], **kwargs)\n",
    "    return ax\n",
    "\n",
    "def draw_task_triangle_propotional_seg(ax, config, base_p=1/7, side_p=1/5, **kwargs):\n",
    "    # draw incomplete triangles used in the task\n",
    "    draw_line(ax, config['L_coord'], [config['L_coord'][0]+config['base_len']*base_p, config['L_coord'][1]], **kwargs)\n",
    "    draw_line(ax, config['L_coord'], [config['L_coord'][i]+(config['T_coord'][i]-config['L_coord'][i])*side_p for i in [0,1]], **kwargs)\n",
    "    draw_line(ax, config['R_coord'], [config['R_coord'][0]-config['base_len']*base_p, config['R_coord'][1]], **kwargs)\n",
    "    draw_line(ax, config['R_coord'], [config['R_coord'][i]-(config['R_coord'][i]-config['T_coord'][i])*side_p for i in [0,1]], **kwargs)\n",
    "    return ax"
   ]
  },
  {
   "cell_type": "code",
   "execution_count": 3,
   "metadata": {},
   "outputs": [],
   "source": [
    "def draw_task_triangle_fixed_seg(ax, config, base_seg=1/25, side_seg=1/25, **kwargs):\n",
    "    # draw incomplete triangles used in the task\n",
    "    draw_line(ax, config['L_coord'], [config['L_coord'][0]+base_seg, config['L_coord'][1]], **kwargs)\n",
    "    draw_line(ax, config['R_coord'], [config['R_coord'][0]-base_seg, config['R_coord'][1]], **kwargs)\n",
    "    \n",
    "    move_x = side_seg * np.cos(np.deg2rad(config['base_angle']))\n",
    "    move_y = side_seg * np.sin(np.deg2rad(config['base_angle']))\n",
    "    draw_line(ax, config['L_coord'], [config['L_coord'][0]+move_x, config['L_coord'][1]+move_y], **kwargs)\n",
    "    draw_line(ax, config['R_coord'], [config['R_coord'][0]-move_x, config['L_coord'][1]+move_y], **kwargs)\n",
    "    return ax"
   ]
  },
  {
   "cell_type": "code",
   "execution_count": 5,
   "metadata": {},
   "outputs": [
    {
     "name": "stdout",
     "output_type": "stream",
     "text": [
      "{'base_len': 1, 'side_len': 1.2292966677871193, 'height': 1.1230183869521082, 'base_angle': 66, 'L_coord': (0.0, 0), 'R_coord': (1.0, 0), 'T_coord': (0.5, 1.1230183869521082)}\n"
     ]
    }
   ],
   "source": [
    "config = isosceles_triangle_model(base_len=1, base_angle=66)\n",
    "print(config)"
   ]
  },
  {
   "cell_type": "code",
   "execution_count": 8,
   "metadata": {},
   "outputs": [
    {
     "data": {
      "text/plain": [
       "0.0"
      ]
     },
     "execution_count": 8,
     "metadata": {},
     "output_type": "execute_result"
    }
   ],
   "source": [
    "900/1350 - 2/3"
   ]
  },
  {
   "cell_type": "markdown",
   "metadata": {},
   "source": [
    "#### draw a presentation figure based on final data collected"
   ]
  },
  {
   "cell_type": "code",
   "execution_count": 6,
   "metadata": {},
   "outputs": [
    {
     "data": {
      "image/png": "[encoded data removed]",
      "text/plain": [
       "<Figure size 432x648 with 1 Axes>"
      ]
     },
     "metadata": {},
     "output_type": "display_data"
    }
   ],
   "source": [
    "config = isosceles_triangle_model(base_len=1, base_angle=66)\n",
    "\n",
    "fig, ax = plt.subplots(figsize=[6, 9]) # image size 2:3\n",
    "ax.set_axis_off()\n",
    "ax.set_xlim([-0.002, 1+0.001])\n",
    "ax.set_ylim([-0.003, 1.5])\n",
    "hide_spines_and_ticks(ax)\n",
    "\n",
    "ax = draw_task_triangle_fixed_seg(ax, config, c='k', lw=1)\n",
    "\n",
    "# ground-truth top vertex\n",
    "\n",
    "# subject's mean estimated top vertex\n",
    "meanDelta = -0.457367129\n",
    "ax.plot(config['T_coord'][0], config['T_coord'][1], 'o', color='black', ms=10)\n",
    "ax.errorbar(x=config['T_coord'][0], y=config['T_coord'][1]+meanDelta, xerr=0, yerr=0.27381352, \n",
    "            fmt='D', capsize=5, color='#F564E3')\n",
    "\n",
    "# fig.savefig('../code/plot/presentation.png', bbox_inches='tight', pad_inches=0, dpi=250)"
   ]
  },
  {
   "cell_type": "code",
   "execution_count": 18,
   "metadata": {},
   "outputs": [
    {
     "data": {
      "image/png": "[encoded data removed]",
      "text/plain": [
       "<Figure size 432x648 with 1 Axes>"
      ]
     },
     "metadata": {},
     "output_type": "display_data"
    }
   ],
   "source": [
    "# test block\n",
    "# test out the x/ylim offset to place the line exactly at (0,0) of the output image\n",
    "fig, ax = plt.subplots(figsize=[6, 9]) # image size 2:3\n",
    "ax.set_axis_off()\n",
    "ax.set_xlim([-0.002, 1+0.001])\n",
    "ax.set_ylim([-0.003, 1.5])\n",
    "hide_spines_and_ticks(ax)\n",
    "\n",
    "# draw_complete_triangle(ax, config, c='C1', lw=1)\n",
    "draw_task_triangle_fixed_seg(ax, config, c='k', lw=1)\n",
    "\n",
    "fig.savefig('../images/test.png', bbox_inches='tight', pad_inches=0, dpi=250)"
   ]
  },
  {
   "cell_type": "markdown",
   "metadata": {},
   "source": [
    "#### generate task images and save them"
   ]
  },
  {
   "cell_type": "code",
   "execution_count": 98,
   "metadata": {},
   "outputs": [],
   "source": [
    "# define triangle config params (2 groups)\n",
    "\n",
    "g1_angles = [30, 45, 60]\n",
    "g2_angles = [36, 51, 66]\n",
    "base_lengths = [0.1, 0.25, 0.5, 0.75, 1]"
   ]
  },
  {
   "cell_type": "markdown",
   "metadata": {},
   "source": [
    "<p> practice image"
   ]
  },
  {
   "cell_type": "code",
   "execution_count": 8,
   "metadata": {},
   "outputs": [
    {
     "data": {
      "image/png": "[encoded data removed]",
      "text/plain": [
       "<Figure size 432x648 with 1 Axes>"
      ]
     },
     "metadata": {},
     "output_type": "display_data"
    }
   ],
   "source": [
    "config = isosceles_triangle_model(.66, 56)\n",
    "\n",
    "fig, ax = plt.subplots(figsize=[6, 9]) # image size 2:3\n",
    "ax.set_axis_off()\n",
    "ax.set_xlim([-0.001, 1+0.001])\n",
    "ax.set_ylim([-0.001, 1.5])\n",
    "hide_spines_and_ticks(ax)\n",
    "\n",
    "draw_task_triangle_fixed_seg(ax, config, c='k', lw=1)\n",
    "ax.plot([config['T_coord'][0]], [config['T_coord'][1]], 'o', c='#a1e1ff', ms=25) # draw a circle at the top vertex\n",
    "fig.tight_layout()\n",
    "# fig.savefig('../images/practice.png', bbox_inches='tight', pad_inches=0, dpi=250)\n",
    "\n",
    "# save practice triangle config params\n",
    "with open('../images/image_params_practice.json', 'w') as fp:\n",
    "#     json.dump(config, fp)"
   ]
  },
  {
   "cell_type": "markdown",
   "metadata": {},
   "source": [
    "<p> task images"
   ]
  },
  {
   "cell_type": "code",
   "execution_count": 157,
   "metadata": {},
   "outputs": [],
   "source": [
    "image_params = {}\n",
    "\n",
    "key = 'group2'\n",
    "if key == 'group1':\n",
    "    configs = [isosceles_triangle_model(pair[0], pair[1]) for pair in list(itertools.product(base_lengths, g1_angles))]\n",
    "elif key == 'group2':\n",
    "    configs = [isosceles_triangle_model(pair[0], pair[1]) for pair in list(itertools.product(base_lengths, g2_angles))]\n",
    "\n",
    "for i, config in enumerate(configs):\n",
    "    fig, ax = plt.subplots(figsize=[6, 9]) # image size 2:3\n",
    "    ax.set_axis_off()\n",
    "    ax.set_xlim([-0.001, 1+0.001])\n",
    "    ax.set_ylim([-0.001, 1.5])\n",
    "    hide_spines_and_ticks(ax)\n",
    "    draw_task_triangle_fixed_seg(ax, config, c='k', lw=1)\n",
    "    fig.tight_layout()\n",
    "    image_params[i] = config\n",
    "    fig.savefig('../images/%s_%d.png'%(key, i), bbox_inches='tight', pad_inches=0, dpi=250)\n",
    "    plt.close()\n",
    "\n",
    "# save triangle config params\n",
    "with open('../images/image_params_%s.json'%key, 'w') as fp:\n",
    "    json.dump(image_params, fp)"
   ]
  },
  {
   "cell_type": "code",
   "execution_count": null,
   "metadata": {},
   "outputs": [],
   "source": []
  }
 ],
 "metadata": {
  "kernelspec": {
   "display_name": "Python 3",
   "language": "python",
   "name": "python3"
  },
  "language_info": {
   "codemirror_mode": {
    "name": "ipython",
    "version": 3
   },
   "file_extension": ".py",
   "mimetype": "text/x-python",
   "name": "python",
   "nbconvert_exporter": "python",
   "pygments_lexer": "ipython3",
   "version": "3.7.3"
  }
 },
 "nbformat": 4,
 "nbformat_minor": 4
}
